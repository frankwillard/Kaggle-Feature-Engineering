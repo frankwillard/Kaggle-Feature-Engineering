{
 "cells": [
  {
   "cell_type": "markdown",
   "id": "989099ba",
   "metadata": {
    "papermill": {
     "duration": 0.024451,
     "end_time": "2021-12-22T19:45:35.778672",
     "exception": false,
     "start_time": "2021-12-22T19:45:35.754221",
     "status": "completed"
    },
    "tags": []
   },
   "source": [
    "**This notebook is an exercise in the [Feature Engineering](https://www.kaggle.com/learn/feature-engineering) course.  You can reference the tutorial at [this link](https://www.kaggle.com/ryanholbrook/target-encoding).**\n",
    "\n",
    "---\n"
   ]
  },
  {
   "cell_type": "markdown",
   "id": "470ee103",
   "metadata": {
    "papermill": {
     "duration": 0.022654,
     "end_time": "2021-12-22T19:45:35.824820",
     "exception": false,
     "start_time": "2021-12-22T19:45:35.802166",
     "status": "completed"
    },
    "tags": []
   },
   "source": [
    "# Introduction #\n",
    "\n",
    "In this exercise, you'll apply target encoding to features in the [*Ames*](https://www.kaggle.com/c/house-prices-advanced-regression-techniques/data) dataset.\n",
    "\n",
    "Run this cell to set everything up!"
   ]
  },
  {
   "cell_type": "code",
   "execution_count": 1,
   "id": "19610474",
   "metadata": {
    "execution": {
     "iopub.execute_input": "2021-12-22T19:45:35.875343Z",
     "iopub.status.busy": "2021-12-22T19:45:35.874012Z",
     "iopub.status.idle": "2021-12-22T19:45:37.664539Z",
     "shell.execute_reply": "2021-12-22T19:45:37.663786Z",
     "shell.execute_reply.started": "2021-12-22T19:44:26.959341Z"
    },
    "papermill": {
     "duration": 1.816692,
     "end_time": "2021-12-22T19:45:37.664725",
     "exception": false,
     "start_time": "2021-12-22T19:45:35.848033",
     "status": "completed"
    },
    "tags": []
   },
   "outputs": [],
   "source": [
    "# Setup feedback system\n",
    "from learntools.core import binder\n",
    "binder.bind(globals())\n",
    "from learntools.feature_engineering_new.ex6 import *\n",
    "\n",
    "import matplotlib.pyplot as plt\n",
    "import numpy as np\n",
    "import pandas as pd\n",
    "import seaborn as sns\n",
    "import warnings\n",
    "from category_encoders import MEstimateEncoder\n",
    "from sklearn.model_selection import cross_val_score\n",
    "from xgboost import XGBRegressor\n",
    "\n",
    "# Set Matplotlib defaults\n",
    "plt.style.use(\"seaborn-whitegrid\")\n",
    "plt.rc(\"figure\", autolayout=True)\n",
    "plt.rc(\n",
    "    \"axes\",\n",
    "    labelweight=\"bold\",\n",
    "    labelsize=\"large\",\n",
    "    titleweight=\"bold\",\n",
    "    titlesize=14,\n",
    "    titlepad=10,\n",
    ")\n",
    "warnings.filterwarnings('ignore')\n",
    "\n",
    "\n",
    "def score_dataset(X, y, model=XGBRegressor()):\n",
    "    # Label encoding for categoricals\n",
    "    for colname in X.select_dtypes([\"category\", \"object\"]):\n",
    "        X[colname], _ = X[colname].factorize()\n",
    "    # Metric for Housing competition is RMSLE (Root Mean Squared Log Error)\n",
    "    score = cross_val_score(\n",
    "        model, X, y, cv=5, scoring=\"neg_mean_squared_log_error\",\n",
    "    )\n",
    "    score = -1 * score.mean()\n",
    "    score = np.sqrt(score)\n",
    "    return score\n",
    "\n",
    "\n",
    "df = pd.read_csv(\"../input/fe-course-data/ames.csv\")"
   ]
  },
  {
   "cell_type": "markdown",
   "id": "38412220",
   "metadata": {
    "papermill": {
     "duration": 0.023138,
     "end_time": "2021-12-22T19:45:37.710785",
     "exception": false,
     "start_time": "2021-12-22T19:45:37.687647",
     "status": "completed"
    },
    "tags": []
   },
   "source": [
    "-------------------------------------------------------------------------------\n",
    "\n",
    "First you'll need to choose which features you want to apply a target encoding to. Categorical features with a large number of categories are often good candidates. Run this cell to see how many categories each categorical feature in the *Ames* dataset has."
   ]
  },
  {
   "cell_type": "code",
   "execution_count": 2,
   "id": "f6fb20d6",
   "metadata": {
    "execution": {
     "iopub.execute_input": "2021-12-22T19:45:37.768869Z",
     "iopub.status.busy": "2021-12-22T19:45:37.767947Z",
     "iopub.status.idle": "2021-12-22T19:45:37.798080Z",
     "shell.execute_reply": "2021-12-22T19:45:37.798626Z",
     "shell.execute_reply.started": "2021-12-22T19:44:27.024150Z"
    },
    "papermill": {
     "duration": 0.064938,
     "end_time": "2021-12-22T19:45:37.798833",
     "exception": false,
     "start_time": "2021-12-22T19:45:37.733895",
     "status": "completed"
    },
    "tags": []
   },
   "outputs": [
    {
     "data": {
      "text/plain": [
       "MSSubClass       16\n",
       "MSZoning          7\n",
       "Street            2\n",
       "Alley             3\n",
       "LotShape          4\n",
       "LandContour       4\n",
       "Utilities         3\n",
       "LotConfig         5\n",
       "LandSlope         3\n",
       "Neighborhood     28\n",
       "Condition1        9\n",
       "Condition2        8\n",
       "BldgType          5\n",
       "HouseStyle        8\n",
       "OverallQual      10\n",
       "OverallCond       9\n",
       "RoofStyle         6\n",
       "RoofMatl          8\n",
       "Exterior1st      16\n",
       "Exterior2nd      17\n",
       "MasVnrType        5\n",
       "ExterQual         4\n",
       "ExterCond         5\n",
       "Foundation        6\n",
       "BsmtQual          6\n",
       "BsmtCond          6\n",
       "BsmtExposure      5\n",
       "BsmtFinType1      7\n",
       "BsmtFinType2      7\n",
       "Heating           6\n",
       "HeatingQC         5\n",
       "CentralAir        2\n",
       "Electrical        6\n",
       "KitchenQual       5\n",
       "Functional        8\n",
       "FireplaceQu       6\n",
       "GarageType        7\n",
       "GarageFinish      4\n",
       "GarageQual        6\n",
       "GarageCond        6\n",
       "PavedDrive        3\n",
       "PoolQC            5\n",
       "Fence             5\n",
       "MiscFeature       6\n",
       "SaleType         10\n",
       "SaleCondition     6\n",
       "dtype: int64"
      ]
     },
     "execution_count": 2,
     "metadata": {},
     "output_type": "execute_result"
    }
   ],
   "source": [
    "df.select_dtypes([\"object\"]).nunique()"
   ]
  },
  {
   "cell_type": "markdown",
   "id": "9f66d9d7",
   "metadata": {
    "papermill": {
     "duration": 0.023652,
     "end_time": "2021-12-22T19:45:37.845951",
     "exception": false,
     "start_time": "2021-12-22T19:45:37.822299",
     "status": "completed"
    },
    "tags": []
   },
   "source": [
    "We talked about how the M-estimate encoding uses smoothing to improve estimates for rare categories. To see how many times a category occurs in the dataset, you can use the `value_counts` method. This cell shows the counts for `SaleType`, but you might want to consider others as well."
   ]
  },
  {
   "cell_type": "code",
   "execution_count": 3,
   "id": "4553e557",
   "metadata": {
    "execution": {
     "iopub.execute_input": "2021-12-22T19:45:37.904591Z",
     "iopub.status.busy": "2021-12-22T19:45:37.897301Z",
     "iopub.status.idle": "2021-12-22T19:45:37.908296Z",
     "shell.execute_reply": "2021-12-22T19:45:37.908993Z",
     "shell.execute_reply.started": "2021-12-22T19:44:27.057563Z"
    },
    "papermill": {
     "duration": 0.038846,
     "end_time": "2021-12-22T19:45:37.909187",
     "exception": false,
     "start_time": "2021-12-22T19:45:37.870341",
     "status": "completed"
    },
    "tags": []
   },
   "outputs": [
    {
     "data": {
      "text/plain": [
       "WD       2536\n",
       "New       239\n",
       "COD        87\n",
       "ConLD      26\n",
       "CWD        12\n",
       "ConLI       9\n",
       "ConLw       8\n",
       "Oth         7\n",
       "Con         5\n",
       "VWD         1\n",
       "Name: SaleType, dtype: int64"
      ]
     },
     "execution_count": 3,
     "metadata": {},
     "output_type": "execute_result"
    }
   ],
   "source": [
    "df[\"SaleType\"].value_counts()"
   ]
  },
  {
   "cell_type": "code",
   "execution_count": 4,
   "id": "2e58a884",
   "metadata": {
    "execution": {
     "iopub.execute_input": "2021-12-22T19:45:37.961233Z",
     "iopub.status.busy": "2021-12-22T19:45:37.960465Z",
     "iopub.status.idle": "2021-12-22T19:45:37.968232Z",
     "shell.execute_reply": "2021-12-22T19:45:37.968865Z",
     "shell.execute_reply.started": "2021-12-22T19:44:27.070586Z"
    },
    "papermill": {
     "duration": 0.035833,
     "end_time": "2021-12-22T19:45:37.969056",
     "exception": false,
     "start_time": "2021-12-22T19:45:37.933223",
     "status": "completed"
    },
    "tags": []
   },
   "outputs": [
    {
     "data": {
      "text/plain": [
       "North_Ames                                 443\n",
       "College_Creek                              267\n",
       "Old_Town                                   239\n",
       "Edwards                                    194\n",
       "Somerset                                   182\n",
       "Northridge_Heights                         166\n",
       "Gilbert                                    165\n",
       "Sawyer                                     151\n",
       "Northwest_Ames                             131\n",
       "Sawyer_West                                125\n",
       "Mitchell                                   114\n",
       "Brookside                                  108\n",
       "Crawford                                   103\n",
       "Iowa_DOT_and_Rail_Road                      93\n",
       "Timberland                                  72\n",
       "Northridge                                  71\n",
       "Stone_Brook                                 51\n",
       "South_and_West_of_Iowa_State_University     48\n",
       "Clear_Creek                                 44\n",
       "Meadow_Village                              37\n",
       "Briardale                                   30\n",
       "Bloomington_Heights                         28\n",
       "Veenker                                     24\n",
       "Northpark_Villa                             23\n",
       "Blueste                                     10\n",
       "Greens                                       8\n",
       "Green_Hills                                  2\n",
       "Landmark                                     1\n",
       "Name: Neighborhood, dtype: int64"
      ]
     },
     "execution_count": 4,
     "metadata": {},
     "output_type": "execute_result"
    }
   ],
   "source": [
    "df[\"Neighborhood\"].value_counts()"
   ]
  },
  {
   "cell_type": "markdown",
   "id": "dc53843c",
   "metadata": {
    "papermill": {
     "duration": 0.024443,
     "end_time": "2021-12-22T19:45:38.018384",
     "exception": false,
     "start_time": "2021-12-22T19:45:37.993941",
     "status": "completed"
    },
    "tags": []
   },
   "source": [
    "# 1) Choose Features for Encoding\n",
    "\n",
    "Which features did you identify for target encoding? After you've thought about your answer, run the next cell for some discussion."
   ]
  },
  {
   "cell_type": "code",
   "execution_count": 5,
   "id": "3603c534",
   "metadata": {
    "execution": {
     "iopub.execute_input": "2021-12-22T19:45:38.071557Z",
     "iopub.status.busy": "2021-12-22T19:45:38.070888Z",
     "iopub.status.idle": "2021-12-22T19:45:38.076981Z",
     "shell.execute_reply": "2021-12-22T19:45:38.077525Z",
     "shell.execute_reply.started": "2021-12-22T19:44:27.088802Z"
    },
    "papermill": {
     "duration": 0.034518,
     "end_time": "2021-12-22T19:45:38.077711",
     "exception": false,
     "start_time": "2021-12-22T19:45:38.043193",
     "status": "completed"
    },
    "tags": []
   },
   "outputs": [
    {
     "data": {
      "application/javascript": [
       "parent.postMessage({\"jupyterEvent\": \"custom.exercise_interaction\", \"data\": {\"outcomeType\": 1, \"valueTowardsCompletion\": 0.3333333333333333, \"interactionType\": 1, \"questionType\": 4, \"questionId\": \"1_Q1\", \"learnToolsVersion\": \"0.3.4\", \"failureMessage\": \"\", \"exceptionClass\": \"\", \"trace\": \"\"}}, \"*\")"
      ],
      "text/plain": [
       "<IPython.core.display.Javascript object>"
      ]
     },
     "metadata": {},
     "output_type": "display_data"
    },
    {
     "data": {
      "text/markdown": [
       "<span style=\"color:#33cc33\">Correct:</span> \n",
       "\n",
       " The `Neighborhood` feature looks promising. It has the most categories of any feature, and several categories are rare. Others that could be worth considering are `SaleType`, `MSSubClass`, `Exterior1st`, `Exterior2nd`. In fact, almost any of the nominal features would be worth trying because of the prevalence of rare categories."
      ],
      "text/plain": [
       "Correct: \n",
       "\n",
       " The `Neighborhood` feature looks promising. It has the most categories of any feature, and several categories are rare. Others that could be worth considering are `SaleType`, `MSSubClass`, `Exterior1st`, `Exterior2nd`. In fact, almost any of the nominal features would be worth trying because of the prevalence of rare categories."
      ]
     },
     "metadata": {},
     "output_type": "display_data"
    }
   ],
   "source": [
    "#The Neighborhood feature, as well as any other feature with 10+ unique categories\n",
    "\n",
    "# View the solution (Run this cell to receive credit!)\n",
    "q_1.check()"
   ]
  },
  {
   "cell_type": "markdown",
   "id": "8e0b0e14",
   "metadata": {
    "papermill": {
     "duration": 0.02587,
     "end_time": "2021-12-22T19:45:38.129765",
     "exception": false,
     "start_time": "2021-12-22T19:45:38.103895",
     "status": "completed"
    },
    "tags": []
   },
   "source": [
    "-------------------------------------------------------------------------------\n",
    "\n",
    "Now you'll apply a target encoding to your choice of feature. As we discussed in the tutorial, to avoid overfitting, we need to fit the encoder on data heldout from the training set. Run this cell to create the encoding and training splits:"
   ]
  },
  {
   "cell_type": "code",
   "execution_count": 6,
   "id": "2095fa72",
   "metadata": {
    "execution": {
     "iopub.execute_input": "2021-12-22T19:45:38.191177Z",
     "iopub.status.busy": "2021-12-22T19:45:38.190371Z",
     "iopub.status.idle": "2021-12-22T19:45:38.199496Z",
     "shell.execute_reply": "2021-12-22T19:45:38.198871Z",
     "shell.execute_reply.started": "2021-12-22T19:44:27.099940Z"
    },
    "lines_to_next_cell": 2,
    "papermill": {
     "duration": 0.044453,
     "end_time": "2021-12-22T19:45:38.199659",
     "exception": false,
     "start_time": "2021-12-22T19:45:38.155206",
     "status": "completed"
    },
    "tags": []
   },
   "outputs": [],
   "source": [
    "# Encoding split\n",
    "X_encode = df.sample(frac=0.20, random_state=0)\n",
    "y_encode = X_encode.pop(\"SalePrice\")\n",
    "\n",
    "# Training split\n",
    "X_pretrain = df.drop(X_encode.index)\n",
    "y_train = X_pretrain.pop(\"SalePrice\")"
   ]
  },
  {
   "cell_type": "markdown",
   "id": "b84d2493",
   "metadata": {
    "papermill": {
     "duration": 0.025842,
     "end_time": "2021-12-22T19:45:38.251284",
     "exception": false,
     "start_time": "2021-12-22T19:45:38.225442",
     "status": "completed"
    },
    "tags": []
   },
   "source": [
    "# 2) Apply M-Estimate Encoding\n",
    "\n",
    "Apply a target encoding to your choice of categorical features. Also choose a value for the smoothing parameter `m` (any value is okay for a correct answer)."
   ]
  },
  {
   "cell_type": "code",
   "execution_count": 7,
   "id": "67bcf946",
   "metadata": {
    "execution": {
     "iopub.execute_input": "2021-12-22T19:45:38.311108Z",
     "iopub.status.busy": "2021-12-22T19:45:38.310005Z",
     "iopub.status.idle": "2021-12-22T19:45:38.383721Z",
     "shell.execute_reply": "2021-12-22T19:45:38.383090Z",
     "shell.execute_reply.started": "2021-12-22T19:44:27.112026Z"
    },
    "lines_to_next_cell": 0,
    "papermill": {
     "duration": 0.106597,
     "end_time": "2021-12-22T19:45:38.383928",
     "exception": false,
     "start_time": "2021-12-22T19:45:38.277331",
     "status": "completed"
    },
    "tags": []
   },
   "outputs": [
    {
     "data": {
      "application/javascript": [
       "parent.postMessage({\"jupyterEvent\": \"custom.exercise_interaction\", \"data\": {\"outcomeType\": 1, \"valueTowardsCompletion\": 0.3333333333333333, \"interactionType\": 1, \"questionType\": 2, \"questionId\": \"2_Q2\", \"learnToolsVersion\": \"0.3.4\", \"failureMessage\": \"\", \"exceptionClass\": \"\", \"trace\": \"\"}}, \"*\")"
      ],
      "text/plain": [
       "<IPython.core.display.Javascript object>"
      ]
     },
     "metadata": {},
     "output_type": "display_data"
    },
    {
     "data": {
      "text/markdown": [
       "<span style=\"color:#33cc33\">Correct</span>"
      ],
      "text/plain": [
       "Correct"
      ]
     },
     "metadata": {},
     "output_type": "display_data"
    }
   ],
   "source": [
    "# YOUR CODE HERE: Create the MEstimateEncoder\n",
    "# Choose a set of features to encode and a value for m\n",
    "encoder = MEstimateEncoder(cols=[\"Neighborhood\"], m=3.0)\n",
    "\n",
    "# Fit the encoder on the encoding split\n",
    "encoder.fit(X_encode, y_encode)\n",
    "\n",
    "# Encode the training split\n",
    "X_train = encoder.transform(X_pretrain, y_train)\n",
    "\n",
    "# Check your answer\n",
    "q_2.check()"
   ]
  },
  {
   "cell_type": "code",
   "execution_count": 8,
   "id": "fa0273f4",
   "metadata": {
    "execution": {
     "iopub.execute_input": "2021-12-22T19:45:38.444467Z",
     "iopub.status.busy": "2021-12-22T19:45:38.443486Z",
     "iopub.status.idle": "2021-12-22T19:45:38.445425Z",
     "shell.execute_reply": "2021-12-22T19:45:38.446105Z",
     "shell.execute_reply.started": "2021-12-22T19:44:27.189328Z"
    },
    "lines_to_next_cell": 0,
    "papermill": {
     "duration": 0.034705,
     "end_time": "2021-12-22T19:45:38.446296",
     "exception": false,
     "start_time": "2021-12-22T19:45:38.411591",
     "status": "completed"
    },
    "tags": []
   },
   "outputs": [],
   "source": [
    "# Lines below will give you a hint or solution code\n",
    "#q_2.hint()\n",
    "#q_2.solution()"
   ]
  },
  {
   "cell_type": "markdown",
   "id": "2110d199",
   "metadata": {
    "papermill": {
     "duration": 0.025688,
     "end_time": "2021-12-22T19:45:38.498522",
     "exception": false,
     "start_time": "2021-12-22T19:45:38.472834",
     "status": "completed"
    },
    "tags": []
   },
   "source": [
    "If you'd like to see how the encoded feature compares to the target, you can run this cell:"
   ]
  },
  {
   "cell_type": "code",
   "execution_count": 9,
   "id": "9e462062",
   "metadata": {
    "execution": {
     "iopub.execute_input": "2021-12-22T19:45:38.561879Z",
     "iopub.status.busy": "2021-12-22T19:45:38.553776Z",
     "iopub.status.idle": "2021-12-22T19:45:39.053263Z",
     "shell.execute_reply": "2021-12-22T19:45:39.053948Z",
     "shell.execute_reply.started": "2021-12-22T19:44:27.196507Z"
    },
    "papermill": {
     "duration": 0.529466,
     "end_time": "2021-12-22T19:45:39.054134",
     "exception": false,
     "start_time": "2021-12-22T19:45:38.524668",
     "status": "completed"
    },
    "tags": []
   },
   "outputs": [
    {
     "data": {
      "image/png": "[encoded data removed]",
      "text/plain": [
       "<Figure size 540x360 with 1 Axes>"
      ]
     },
     "metadata": {},
     "output_type": "display_data"
    }
   ],
   "source": [
    "feature = encoder.cols\n",
    "\n",
    "plt.figure(dpi=90)\n",
    "ax = sns.distplot(y_train, kde=True, hist=False)\n",
    "ax = sns.distplot(X_train[feature], color='r', ax=ax, hist=True, kde=False, norm_hist=True)\n",
    "ax.set_xlabel(\"SalePrice\");"
   ]
  },
  {
   "cell_type": "markdown",
   "id": "aab051f2",
   "metadata": {
    "papermill": {
     "duration": 0.027165,
     "end_time": "2021-12-22T19:45:39.108345",
     "exception": false,
     "start_time": "2021-12-22T19:45:39.081180",
     "status": "completed"
    },
    "tags": []
   },
   "source": [
    "From the distribution plots, does it seem like the encoding is informative?\n",
    "\n",
    "And this cell will show you the score of the encoded set compared to the original set:"
   ]
  },
  {
   "cell_type": "code",
   "execution_count": 10,
   "id": "fe5dd10c",
   "metadata": {
    "execution": {
     "iopub.execute_input": "2021-12-22T19:45:39.168498Z",
     "iopub.status.busy": "2021-12-22T19:45:39.167755Z",
     "iopub.status.idle": "2021-12-22T19:45:47.816842Z",
     "shell.execute_reply": "2021-12-22T19:45:47.817497Z",
     "shell.execute_reply.started": "2021-12-22T19:44:27.585710Z"
    },
    "papermill": {
     "duration": 8.68234,
     "end_time": "2021-12-22T19:45:47.817683",
     "exception": false,
     "start_time": "2021-12-22T19:45:39.135343",
     "status": "completed"
    },
    "tags": []
   },
   "outputs": [
    {
     "name": "stdout",
     "output_type": "stream",
     "text": [
      "Baseline Score: 0.1428 RMSLE\n",
      "Score with Encoding: 0.1423 RMSLE\n"
     ]
    }
   ],
   "source": [
    "X = df.copy()\n",
    "y = X.pop(\"SalePrice\")\n",
    "score_base = score_dataset(X, y)\n",
    "score_new = score_dataset(X_train, y_train)\n",
    "\n",
    "print(f\"Baseline Score: {score_base:.4f} RMSLE\")\n",
    "print(f\"Score with Encoding: {score_new:.4f} RMSLE\")"
   ]
  },
  {
   "cell_type": "markdown",
   "id": "7f932683",
   "metadata": {
    "papermill": {
     "duration": 0.027548,
     "end_time": "2021-12-22T19:45:47.873706",
     "exception": false,
     "start_time": "2021-12-22T19:45:47.846158",
     "status": "completed"
    },
    "tags": []
   },
   "source": [
    "Do you think that target encoding was worthwhile in this case? Depending on which feature or features you chose, you may have ended up with a score significantly worse than the baseline. In that case, it's likely the extra information gained by the encoding couldn't make up for the loss of data used for the encoding."
   ]
  },
  {
   "cell_type": "markdown",
   "id": "52695b31",
   "metadata": {
    "papermill": {
     "duration": 0.028689,
     "end_time": "2021-12-22T19:45:47.930768",
     "exception": false,
     "start_time": "2021-12-22T19:45:47.902079",
     "status": "completed"
    },
    "tags": []
   },
   "source": [
    "-------------------------------------------------------------------------------\n",
    "\n",
    "In this question, you'll explore the problem of overfitting with target encodings. This will illustrate this importance of training fitting target encoders on data held-out from the training set.\n",
    "\n",
    "So let's see what happens when we fit the encoder and the model on the *same* dataset. To emphasize how dramatic the overfitting can be, we'll mean-encode a feature that should have no relationship with `SalePrice`, a count: `0, 1, 2, 3, 4, 5, ...`."
   ]
  },
  {
   "cell_type": "code",
   "execution_count": 11,
   "id": "b0bbd53e",
   "metadata": {
    "execution": {
     "iopub.execute_input": "2021-12-22T19:45:47.992775Z",
     "iopub.status.busy": "2021-12-22T19:45:47.992065Z",
     "iopub.status.idle": "2021-12-22T19:45:47.995857Z",
     "shell.execute_reply": "2021-12-22T19:45:47.995274Z",
     "shell.execute_reply.started": "2021-12-22T19:44:36.537469Z"
    },
    "papermill": {
     "duration": 0.036788,
     "end_time": "2021-12-22T19:45:47.996034",
     "exception": false,
     "start_time": "2021-12-22T19:45:47.959246",
     "status": "completed"
    },
    "tags": []
   },
   "outputs": [],
   "source": [
    "from sklearn.model_selection import GridSearchCV"
   ]
  },
  {
   "cell_type": "code",
   "execution_count": 12,
   "id": "a43bbc08",
   "metadata": {
    "execution": {
     "iopub.execute_input": "2021-12-22T19:45:48.060706Z",
     "iopub.status.busy": "2021-12-22T19:45:48.059695Z",
     "iopub.status.idle": "2021-12-22T19:45:48.066161Z",
     "shell.execute_reply": "2021-12-22T19:45:48.065575Z",
     "shell.execute_reply.started": "2021-12-22T19:44:36.543617Z"
    },
    "papermill": {
     "duration": 0.040816,
     "end_time": "2021-12-22T19:45:48.066321",
     "exception": false,
     "start_time": "2021-12-22T19:45:48.025505",
     "status": "completed"
    },
    "tags": []
   },
   "outputs": [],
   "source": [
    "# Try experimenting with the smoothing parameter m\n",
    "# Try 0, 1, 5, 50\n",
    "m = [0,1,5,50]\n",
    "\n",
    "X = df.copy()\n",
    "y = X.pop('SalePrice')\n",
    "\n",
    "# Create an uninformative feature\n",
    "X[\"Count\"] = range(len(X))\n",
    "X[\"Count\"][1] = 0  # actually need one duplicate value to circumvent error-checking in MEstimateEncoder"
   ]
  },
  {
   "cell_type": "code",
   "execution_count": 13,
   "id": "31e6e1a4",
   "metadata": {
    "execution": {
     "iopub.execute_input": "2021-12-22T19:45:48.129317Z",
     "iopub.status.busy": "2021-12-22T19:45:48.128585Z",
     "iopub.status.idle": "2021-12-22T19:45:48.133707Z",
     "shell.execute_reply": "2021-12-22T19:45:48.134723Z",
     "shell.execute_reply.started": "2021-12-22T19:44:36.563557Z"
    },
    "papermill": {
     "duration": 0.04084,
     "end_time": "2021-12-22T19:45:48.135027",
     "exception": false,
     "start_time": "2021-12-22T19:45:48.094187",
     "status": "completed"
    },
    "tags": []
   },
   "outputs": [
    {
     "name": "stdout",
     "output_type": "stream",
     "text": [
      "0          0\n",
      "1          0\n",
      "2          2\n",
      "3          3\n",
      "4          4\n",
      "        ... \n",
      "2925    2925\n",
      "2926    2926\n",
      "2927    2927\n",
      "2928    2928\n",
      "2929    2929\n",
      "Name: Count, Length: 2930, dtype: int64\n"
     ]
    }
   ],
   "source": [
    "print(X[\"Count\"])"
   ]
  },
  {
   "cell_type": "code",
   "execution_count": 14,
   "id": "c60c2dd5",
   "metadata": {
    "execution": {
     "iopub.execute_input": "2021-12-22T19:45:48.201822Z",
     "iopub.status.busy": "2021-12-22T19:45:48.200495Z",
     "iopub.status.idle": "2021-12-22T19:46:08.147337Z",
     "shell.execute_reply": "2021-12-22T19:46:08.146752Z",
     "shell.execute_reply.started": "2021-12-22T19:44:36.579785Z"
    },
    "papermill": {
     "duration": 19.98341,
     "end_time": "2021-12-22T19:46:08.147499",
     "exception": false,
     "start_time": "2021-12-22T19:45:48.164089",
     "status": "completed"
    },
    "tags": []
   },
   "outputs": [
    {
     "name": "stdout",
     "output_type": "stream",
     "text": [
      "M value: 0.0\n",
      "Score: 0.0293 RMSLE\n",
      "M value: 1.0\n",
      "Score: 0.0861 RMSLE\n",
      "M value: 5.0\n",
      "Score: 0.1126 RMSLE\n",
      "M value: 50.0\n",
      "Score: 0.1150 RMSLE\n"
     ]
    }
   ],
   "source": [
    "\n",
    "for m_value in m:\n",
    "    # fit and transform on the same dataset\n",
    "    encoder = MEstimateEncoder(cols=\"Count\", m=m_value)\n",
    "    #clf = GridSearchCV(estimator=encoder, param_grid={'m':[0,1,5,50]})\n",
    "    #clf.fit(X, y)\n",
    "    #print(sorted(clf.cv_results_.keys()))\n",
    "\n",
    "    X = encoder.fit_transform(X, y)\n",
    "\n",
    "    # Results\n",
    "    score =  score_dataset(X, y)\n",
    "    print(f\"M value: {m_value:.1f}\")\n",
    "    print(f\"Score: {score:.4f} RMSLE\")"
   ]
  },
  {
   "cell_type": "markdown",
   "id": "0e11a248",
   "metadata": {
    "papermill": {
     "duration": 0.029674,
     "end_time": "2021-12-22T19:46:08.207822",
     "exception": false,
     "start_time": "2021-12-22T19:46:08.178148",
     "status": "completed"
    },
    "tags": []
   },
   "source": [
    "Almost a perfect score!"
   ]
  },
  {
   "cell_type": "code",
   "execution_count": 15,
   "id": "c8261dcf",
   "metadata": {
    "execution": {
     "iopub.execute_input": "2021-12-22T19:46:08.295111Z",
     "iopub.status.busy": "2021-12-22T19:46:08.292275Z",
     "iopub.status.idle": "2021-12-22T19:46:08.738196Z",
     "shell.execute_reply": "2021-12-22T19:46:08.737452Z",
     "shell.execute_reply.started": "2021-12-22T19:44:54.458659Z"
    },
    "papermill": {
     "duration": 0.498911,
     "end_time": "2021-12-22T19:46:08.738359",
     "exception": false,
     "start_time": "2021-12-22T19:46:08.239448",
     "status": "completed"
    },
    "tags": []
   },
   "outputs": [
    {
     "data": {
      "image/png": "[encoded data removed]",
      "text/plain": [
       "<Figure size 540x360 with 1 Axes>"
      ]
     },
     "metadata": {},
     "output_type": "display_data"
    }
   ],
   "source": [
    "plt.figure(dpi=90)\n",
    "ax = sns.distplot(y, kde=True, hist=False)\n",
    "ax = sns.distplot(X[\"Count\"], color='r', ax=ax, hist=True, kde=False, norm_hist=True)\n",
    "ax.set_xlabel(\"SalePrice\");"
   ]
  },
  {
   "cell_type": "markdown",
   "id": "e05a2d2e",
   "metadata": {
    "papermill": {
     "duration": 0.030737,
     "end_time": "2021-12-22T19:46:08.799897",
     "exception": false,
     "start_time": "2021-12-22T19:46:08.769160",
     "status": "completed"
    },
    "tags": []
   },
   "source": [
    "And the distributions are almost exactly the same, too.\n",
    "\n",
    "# 3) Overfitting with Target Encoders\n",
    "\n",
    "Based on your understanding of how mean-encoding works, can you explain how XGBoost was able to get an almost a perfect fit after mean-encoding the count feature?"
   ]
  },
  {
   "cell_type": "code",
   "execution_count": 16,
   "id": "95f16144",
   "metadata": {
    "execution": {
     "iopub.execute_input": "2021-12-22T19:46:08.868932Z",
     "iopub.status.busy": "2021-12-22T19:46:08.868016Z",
     "iopub.status.idle": "2021-12-22T19:46:08.874796Z",
     "shell.execute_reply": "2021-12-22T19:46:08.874130Z",
     "shell.execute_reply.started": "2021-12-22T19:44:54.845538Z"
    },
    "lines_to_next_cell": 0,
    "papermill": {
     "duration": 0.044283,
     "end_time": "2021-12-22T19:46:08.874958",
     "exception": false,
     "start_time": "2021-12-22T19:46:08.830675",
     "status": "completed"
    },
    "tags": []
   },
   "outputs": [
    {
     "data": {
      "application/javascript": [
       "parent.postMessage({\"jupyterEvent\": \"custom.exercise_interaction\", \"data\": {\"outcomeType\": 1, \"valueTowardsCompletion\": 0.3333333333333333, \"interactionType\": 1, \"questionType\": 4, \"questionId\": \"3_Q3\", \"learnToolsVersion\": \"0.3.4\", \"failureMessage\": \"\", \"exceptionClass\": \"\", \"trace\": \"\"}}, \"*\")"
      ],
      "text/plain": [
       "<IPython.core.display.Javascript object>"
      ]
     },
     "metadata": {},
     "output_type": "display_data"
    },
    {
     "data": {
      "text/markdown": [
       "<span style=\"color:#33cc33\">Correct:</span> \n",
       "\n",
       "\n",
       "Since `Count` never has any duplicate values, the mean-encoded `Count` is essentially an exact copy of the target. In other words, mean-encoding turned a completely meaningless feature into a perfect feature.\n",
       "\n",
       "Now, the only reason this worked is because we trained XGBoost on the same set we used to train the encoder. If we had used a hold-out set instead, none of this \"fake\" encoding would have transferred to the training data.\n",
       "\n",
       "The lesson is that when using a target encoder it's very important to use separate data sets for training the encoder and training the model. Otherwise the results can be very disappointing!\n"
      ],
      "text/plain": [
       "Correct: \n",
       "\n",
       "\n",
       "Since `Count` never has any duplicate values, the mean-encoded `Count` is essentially an exact copy of the target. In other words, mean-encoding turned a completely meaningless feature into a perfect feature.\n",
       "\n",
       "Now, the only reason this worked is because we trained XGBoost on the same set we used to train the encoder. If we had used a hold-out set instead, none of this \"fake\" encoding would have transferred to the training data.\n",
       "\n",
       "The lesson is that when using a target encoder it's very important to use separate data sets for training the encoder and training the model. Otherwise the results can be very disappointing!"
      ]
     },
     "metadata": {},
     "output_type": "display_data"
    }
   ],
   "source": [
    "#My Response: This is like a symptom of overfitting, as each Count is going to be unique, such that the mean is simply \n",
    "#the value of the target, and thus you are giving the XGB Regressor a cheat sheet of all the target values\n",
    "\n",
    "# View the solution (Run this cell to receive credit!)\n",
    "q_3.check()"
   ]
  },
  {
   "cell_type": "code",
   "execution_count": 17,
   "id": "e8874ce3",
   "metadata": {
    "execution": {
     "iopub.execute_input": "2021-12-22T19:46:08.943546Z",
     "iopub.status.busy": "2021-12-22T19:46:08.942869Z",
     "iopub.status.idle": "2021-12-22T19:46:08.946775Z",
     "shell.execute_reply": "2021-12-22T19:46:08.946158Z",
     "shell.execute_reply.started": "2021-12-22T19:44:54.857085Z"
    },
    "papermill": {
     "duration": 0.039765,
     "end_time": "2021-12-22T19:46:08.946985",
     "exception": false,
     "start_time": "2021-12-22T19:46:08.907220",
     "status": "completed"
    },
    "tags": []
   },
   "outputs": [],
   "source": [
    "# Uncomment this if you'd like a hint before seeing the answer\n",
    "#q_3.hint()"
   ]
  },
  {
   "cell_type": "markdown",
   "id": "571a9ef1",
   "metadata": {
    "papermill": {
     "duration": 0.031563,
     "end_time": "2021-12-22T19:46:09.011085",
     "exception": false,
     "start_time": "2021-12-22T19:46:08.979522",
     "status": "completed"
    },
    "tags": []
   },
   "source": [
    "# The End #\n",
    "\n",
    "That's it for *Feature Engineering*! We hope you enjoyed your time with us.\n",
    "\n",
    "Now, are you ready to try out your new skills? Now would be a great time to join our [Housing Prices](https://www.kaggle.com/c/house-prices-advanced-regression-techniques) Getting Started competition. We've even prepared a [Bonus Lesson]() that collects all the work we've done together into a starter notebook.\n",
    "\n",
    "# References #\n",
    "Here are some great resources you might like to consult for more information. They all played a part in shaping this course:\n",
    "- *The Art of Feature Engineering*, a book by Pablo Duboue.\n",
    "- *An Empirical Analysis of Feature Engineering for Predictive Modeling*, an article by Jeff Heaton.\n",
    "- *Feature Engineering for Machine Learning*, a book by Alice Zheng and Amanda Casari. The tutorial on clustering was inspired by this excellent book.\n",
    "- *Feature Engineering and Selection*, a book by Max Kuhn and Kjell Johnson."
   ]
  }
 ],
 "metadata": {
  "kernelspec": {
   "display_name": "Python 3",
   "language": "python",
   "name": "python3"
  },
  "language_info": {
   "codemirror_mode": {
    "name": "ipython",
    "version": 3
   },
   "file_extension": ".py",
   "mimetype": "text/x-python",
   "name": "python",
   "nbconvert_exporter": "python",
   "pygments_lexer": "ipython3",
   "version": "3.7.12"
  },
  "papermill": {
   "default_parameters": {},
   "duration": 45.427887,
   "end_time": "2021-12-22T19:46:09.854894",
   "environment_variables": {},
   "exception": null,
   "input_path": "__notebook__.ipynb",
   "output_path": "__notebook__.ipynb",
   "parameters": {},
   "start_time": "2021-12-22T19:45:24.427007",
   "version": "2.3.3"
  }
 },
 "nbformat": 4,
 "nbformat_minor": 5
}
