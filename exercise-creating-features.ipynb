{
 "cells": [
  {
   "cell_type": "markdown",
   "id": "5f4dfde7",
   "metadata": {
    "papermill": {
     "duration": 0.018124,
     "end_time": "2021-12-21T04:53:08.081122",
     "exception": false,
     "start_time": "2021-12-21T04:53:08.062998",
     "status": "completed"
    },
    "tags": []
   },
   "source": [
    "**This notebook is an exercise in the [Feature Engineering](https://www.kaggle.com/learn/feature-engineering) course.  You can reference the tutorial at [this link](https://www.kaggle.com/ryanholbrook/creating-features).**\n",
    "\n",
    "---\n"
   ]
  },
  {
   "cell_type": "markdown",
   "id": "1c263d4a",
   "metadata": {
    "papermill": {
     "duration": 0.016131,
     "end_time": "2021-12-21T04:53:08.114251",
     "exception": false,
     "start_time": "2021-12-21T04:53:08.098120",
     "status": "completed"
    },
    "tags": []
   },
   "source": [
    "# Introduction #\n",
    "\n",
    "In this exercise you'll start developing the features you identified in Exercise 2 as having the most potential. As you work through this exercise, you might take a moment to look at the data documentation again and consider whether the features we're creating make sense from a real-world perspective, and whether there are any useful combinations that stand out to you.\n",
    "\n",
    "Run this cell to set everything up!"
   ]
  },
  {
   "cell_type": "code",
   "execution_count": 1,
   "id": "2455e779",
   "metadata": {
    "execution": {
     "iopub.execute_input": "2021-12-21T04:53:08.151417Z",
     "iopub.status.busy": "2021-12-21T04:53:08.150133Z",
     "iopub.status.idle": "2021-12-21T04:53:09.528824Z",
     "shell.execute_reply": "2021-12-21T04:53:09.527877Z",
     "shell.execute_reply.started": "2021-12-21T04:40:51.408084Z"
    },
    "papermill": {
     "duration": 1.398617,
     "end_time": "2021-12-21T04:53:09.528999",
     "exception": false,
     "start_time": "2021-12-21T04:53:08.130382",
     "status": "completed"
    },
    "tags": []
   },
   "outputs": [],
   "source": [
    "# Setup feedback system\n",
    "from learntools.core import binder\n",
    "binder.bind(globals())\n",
    "from learntools.feature_engineering_new.ex3 import *\n",
    "\n",
    "import numpy as np\n",
    "import pandas as pd\n",
    "from sklearn.model_selection import cross_val_score\n",
    "from xgboost import XGBRegressor\n",
    "\n",
    "\n",
    "def score_dataset(X, y, model=XGBRegressor()):\n",
    "    # Label encoding for categoricals\n",
    "    for colname in X.select_dtypes([\"category\", \"object\"]):\n",
    "        X[colname], _ = X[colname].factorize()\n",
    "    # Metric for Housing competition is RMSLE (Root Mean Squared Log Error)\n",
    "    score = cross_val_score(\n",
    "        model, X, y, cv=5, scoring=\"neg_mean_squared_log_error\",\n",
    "    )\n",
    "    score = -1 * score.mean()\n",
    "    score = np.sqrt(score)\n",
    "    return score\n",
    "\n",
    "\n",
    "# Prepare data\n",
    "df = pd.read_csv(\"../input/fe-course-data/ames.csv\")\n",
    "X = df.copy()\n",
    "y = X.pop(\"SalePrice\")"
   ]
  },
  {
   "cell_type": "markdown",
   "id": "496c7d74",
   "metadata": {
    "papermill": {
     "duration": 0.016679,
     "end_time": "2021-12-21T04:53:09.565441",
     "exception": false,
     "start_time": "2021-12-21T04:53:09.548762",
     "status": "completed"
    },
    "tags": []
   },
   "source": [
    "-------------------------------------------------------------------------------\n",
    "\n",
    "Let's start with a few mathematical combinations. We'll focus on features describing areas -- having the same units (square-feet) makes it easy to combine them in sensible ways. Since we're using XGBoost (a tree-based model), we'll focus on ratios and sums.\n",
    "\n",
    "# 1) Create Mathematical Transforms\n",
    "\n",
    "Create the following features:\n",
    "\n",
    "- `LivLotRatio`: the ratio of `GrLivArea` to `LotArea`\n",
    "- `Spaciousness`: the sum of `FirstFlrSF` and `SecondFlrSF` divided by `TotRmsAbvGrd`\n",
    "- `TotalOutsideSF`: the sum of `WoodDeckSF`, `OpenPorchSF`, `EnclosedPorch`, `Threeseasonporch`, and `ScreenPorch`"
   ]
  },
  {
   "cell_type": "code",
   "execution_count": 2,
   "id": "3baaa6ce",
   "metadata": {
    "execution": {
     "iopub.execute_input": "2021-12-21T04:53:09.605347Z",
     "iopub.status.busy": "2021-12-21T04:53:09.601227Z",
     "iopub.status.idle": "2021-12-21T04:53:09.625887Z",
     "shell.execute_reply": "2021-12-21T04:53:09.626385Z",
     "shell.execute_reply.started": "2021-12-21T04:42:58.535729Z"
    },
    "lines_to_next_cell": 0,
    "papermill": {
     "duration": 0.044377,
     "end_time": "2021-12-21T04:53:09.626555",
     "exception": false,
     "start_time": "2021-12-21T04:53:09.582178",
     "status": "completed"
    },
    "tags": []
   },
   "outputs": [
    {
     "data": {
      "application/javascript": [
       "parent.postMessage({\"jupyterEvent\": \"custom.exercise_interaction\", \"data\": {\"outcomeType\": 1, \"valueTowardsCompletion\": 0.2, \"interactionType\": 1, \"questionType\": 2, \"questionId\": \"1_Q1\", \"learnToolsVersion\": \"0.3.4\", \"failureMessage\": \"\", \"exceptionClass\": \"\", \"trace\": \"\"}}, \"*\")"
      ],
      "text/plain": [
       "<IPython.core.display.Javascript object>"
      ]
     },
     "metadata": {},
     "output_type": "display_data"
    },
    {
     "data": {
      "text/markdown": [
       "<span style=\"color:#33cc33\">Correct</span>"
      ],
      "text/plain": [
       "Correct"
      ]
     },
     "metadata": {},
     "output_type": "display_data"
    }
   ],
   "source": [
    "# YOUR CODE HERE\n",
    "X_1 = pd.DataFrame()  # dataframe to hold new features\n",
    "\n",
    "X_1[\"LivLotRatio\"] = df[\"GrLivArea\"] / df[\"LotArea\"]\n",
    "X_1[\"Spaciousness\"] = (df[\"FirstFlrSF\"] + df[\"SecondFlrSF\"]) / df[\"TotRmsAbvGrd\"]\n",
    "X_1[\"TotalOutsideSF\"] = df[\"WoodDeckSF\"] + df[\"OpenPorchSF\"] + df[\"EnclosedPorch\"]+ df[\"Threeseasonporch\"] + df[\"ScreenPorch\"]  \n",
    "\n",
    "\n",
    "# Check your answer\n",
    "q_1.check()"
   ]
  },
  {
   "cell_type": "code",
   "execution_count": 3,
   "id": "c64b169a",
   "metadata": {
    "execution": {
     "iopub.execute_input": "2021-12-21T04:53:09.665996Z",
     "iopub.status.busy": "2021-12-21T04:53:09.665321Z",
     "iopub.status.idle": "2021-12-21T04:53:09.668630Z",
     "shell.execute_reply": "2021-12-21T04:53:09.668077Z",
     "shell.execute_reply.started": "2021-12-21T04:43:02.766090Z"
    },
    "lines_to_next_cell": 0,
    "papermill": {
     "duration": 0.024665,
     "end_time": "2021-12-21T04:53:09.668810",
     "exception": false,
     "start_time": "2021-12-21T04:53:09.644145",
     "status": "completed"
    },
    "tags": []
   },
   "outputs": [],
   "source": [
    "# Lines below will give you a hint or solution code\n",
    "#q_1.hint()\n",
    "#q_1.solution()"
   ]
  },
  {
   "cell_type": "markdown",
   "id": "525d4313",
   "metadata": {
    "papermill": {
     "duration": 0.017417,
     "end_time": "2021-12-21T04:53:09.703640",
     "exception": false,
     "start_time": "2021-12-21T04:53:09.686223",
     "status": "completed"
    },
    "tags": []
   },
   "source": [
    "-------------------------------------------------------------------------------\n",
    "\n",
    "If you've discovered an interaction effect between a numeric feature and a categorical feature, you might want to model it explicitly using a one-hot encoding, like so:\n",
    "\n",
    "```\n",
    "# One-hot encode Categorical feature, adding a column prefix \"Cat\"\n",
    "X_new = pd.get_dummies(df.Categorical, prefix=\"Cat\")\n",
    "\n",
    "# Multiply row-by-row\n",
    "X_new = X_new.mul(df.Continuous, axis=0)\n",
    "\n",
    "# Join the new features to the feature set\n",
    "X = X.join(X_new)\n",
    "```\n",
    "\n",
    "# 2) Interaction with a Categorical\n",
    "\n",
    "We discovered an interaction between `BldgType` and `GrLivArea` in Exercise 2. Now create their interaction features."
   ]
  },
  {
   "cell_type": "code",
   "execution_count": 4,
   "id": "ba0b2ceb",
   "metadata": {
    "execution": {
     "iopub.execute_input": "2021-12-21T04:53:09.745226Z",
     "iopub.status.busy": "2021-12-21T04:53:09.744453Z",
     "iopub.status.idle": "2021-12-21T04:53:09.756555Z",
     "shell.execute_reply": "2021-12-21T04:53:09.757153Z",
     "shell.execute_reply.started": "2021-12-21T04:44:35.387467Z"
    },
    "lines_to_next_cell": 0,
    "papermill": {
     "duration": 0.036463,
     "end_time": "2021-12-21T04:53:09.757340",
     "exception": false,
     "start_time": "2021-12-21T04:53:09.720877",
     "status": "completed"
    },
    "tags": []
   },
   "outputs": [
    {
     "data": {
      "application/javascript": [
       "parent.postMessage({\"jupyterEvent\": \"custom.exercise_interaction\", \"data\": {\"outcomeType\": 1, \"valueTowardsCompletion\": 0.2, \"interactionType\": 1, \"questionType\": 2, \"questionId\": \"2_Q2\", \"learnToolsVersion\": \"0.3.4\", \"failureMessage\": \"\", \"exceptionClass\": \"\", \"trace\": \"\"}}, \"*\")"
      ],
      "text/plain": [
       "<IPython.core.display.Javascript object>"
      ]
     },
     "metadata": {},
     "output_type": "display_data"
    },
    {
     "data": {
      "text/markdown": [
       "<span style=\"color:#33cc33\">Correct</span>"
      ],
      "text/plain": [
       "Correct"
      ]
     },
     "metadata": {},
     "output_type": "display_data"
    }
   ],
   "source": [
    "# YOUR CODE HERE\n",
    "# One-hot encode BldgType. Use `prefix=\"Bldg\"` in `get_dummies`\n",
    "X_2 = pd.get_dummies(df.BldgType, prefix=\"Bldg\") \n",
    "# Multiply row-by-row\n",
    "X_2 = X_2.mul(df.GrLivArea, axis=0)\n",
    "\n",
    "\n",
    "# Check your answer\n",
    "q_2.check()"
   ]
  },
  {
   "cell_type": "code",
   "execution_count": 5,
   "id": "f46d057d",
   "metadata": {
    "execution": {
     "iopub.execute_input": "2021-12-21T04:53:09.799107Z",
     "iopub.status.busy": "2021-12-21T04:53:09.797988Z",
     "iopub.status.idle": "2021-12-21T04:53:09.801379Z",
     "shell.execute_reply": "2021-12-21T04:53:09.800791Z",
     "shell.execute_reply.started": "2021-12-21T04:44:20.369201Z"
    },
    "lines_to_next_cell": 0,
    "papermill": {
     "duration": 0.026002,
     "end_time": "2021-12-21T04:53:09.801535",
     "exception": false,
     "start_time": "2021-12-21T04:53:09.775533",
     "status": "completed"
    },
    "tags": []
   },
   "outputs": [],
   "source": [
    "# Lines below will give you a hint or solution code\n",
    "#q_2.hint()\n",
    "#q_2.solution()"
   ]
  },
  {
   "cell_type": "markdown",
   "id": "c548ab45",
   "metadata": {
    "lines_to_next_cell": 0,
    "papermill": {
     "duration": 0.017966,
     "end_time": "2021-12-21T04:53:09.837889",
     "exception": false,
     "start_time": "2021-12-21T04:53:09.819923",
     "status": "completed"
    },
    "tags": []
   },
   "source": [
    "# 3) Count Feature\n",
    "\n",
    "Let's try creating a feature that describes how many kinds of outdoor areas a dwelling has. Create a feature `PorchTypes` that counts how many of the following are greater than 0.0:\n",
    "\n",
    "```\n",
    "WoodDeckSF\n",
    "OpenPorchSF\n",
    "EnclosedPorch\n",
    "Threeseasonporch\n",
    "ScreenPorch\n",
    "```"
   ]
  },
  {
   "cell_type": "code",
   "execution_count": 6,
   "id": "2ca6580d",
   "metadata": {
    "execution": {
     "iopub.execute_input": "2021-12-21T04:53:09.883922Z",
     "iopub.status.busy": "2021-12-21T04:53:09.883156Z",
     "iopub.status.idle": "2021-12-21T04:53:09.895321Z",
     "shell.execute_reply": "2021-12-21T04:53:09.895906Z",
     "shell.execute_reply.started": "2021-12-21T04:47:05.663910Z"
    },
    "lines_to_next_cell": 0,
    "papermill": {
     "duration": 0.040034,
     "end_time": "2021-12-21T04:53:09.896090",
     "exception": false,
     "start_time": "2021-12-21T04:53:09.856056",
     "status": "completed"
    },
    "tags": []
   },
   "outputs": [
    {
     "data": {
      "application/javascript": [
       "parent.postMessage({\"jupyterEvent\": \"custom.exercise_interaction\", \"data\": {\"outcomeType\": 1, \"valueTowardsCompletion\": 0.2, \"interactionType\": 1, \"questionType\": 2, \"questionId\": \"3_Q3\", \"learnToolsVersion\": \"0.3.4\", \"failureMessage\": \"\", \"exceptionClass\": \"\", \"trace\": \"\"}}, \"*\")"
      ],
      "text/plain": [
       "<IPython.core.display.Javascript object>"
      ]
     },
     "metadata": {},
     "output_type": "display_data"
    },
    {
     "data": {
      "text/markdown": [
       "<span style=\"color:#33cc33\">Correct</span>"
      ],
      "text/plain": [
       "Correct"
      ]
     },
     "metadata": {},
     "output_type": "display_data"
    }
   ],
   "source": [
    "X_3 = pd.DataFrame()\n",
    "\n",
    "porchs = [\"WoodDeckSF\",\"OpenPorchSF\",\"EnclosedPorch\",\"Threeseasonporch\", \"ScreenPorch\"]\n",
    "\n",
    "# YOUR CODE HERE\n",
    "X_3[\"PorchTypes\"] = df[porchs].gt(0).sum(axis=1)\n",
    "\n",
    "\n",
    "# Check your answer\n",
    "q_3.check()"
   ]
  },
  {
   "cell_type": "code",
   "execution_count": 7,
   "id": "e5dbae5a",
   "metadata": {
    "execution": {
     "iopub.execute_input": "2021-12-21T04:53:09.940209Z",
     "iopub.status.busy": "2021-12-21T04:53:09.939299Z",
     "iopub.status.idle": "2021-12-21T04:53:09.942262Z",
     "shell.execute_reply": "2021-12-21T04:53:09.941641Z",
     "shell.execute_reply.started": "2021-12-21T04:47:08.661852Z"
    },
    "lines_to_next_cell": 0,
    "papermill": {
     "duration": 0.026294,
     "end_time": "2021-12-21T04:53:09.942417",
     "exception": false,
     "start_time": "2021-12-21T04:53:09.916123",
     "status": "completed"
    },
    "tags": []
   },
   "outputs": [],
   "source": [
    "# Lines below will give you a hint or solution code\n",
    "#q_3.hint()\n",
    "#q_3.solution()"
   ]
  },
  {
   "cell_type": "markdown",
   "id": "b20b3420",
   "metadata": {
    "papermill": {
     "duration": 0.020779,
     "end_time": "2021-12-21T04:53:09.983160",
     "exception": false,
     "start_time": "2021-12-21T04:53:09.962381",
     "status": "completed"
    },
    "tags": []
   },
   "source": [
    "# 4) Break Down a Categorical Feature\n",
    "\n",
    "`MSSubClass` describes the type of a dwelling:"
   ]
  },
  {
   "cell_type": "code",
   "execution_count": 8,
   "id": "126bc206",
   "metadata": {
    "execution": {
     "iopub.execute_input": "2021-12-21T04:53:10.031842Z",
     "iopub.status.busy": "2021-12-21T04:53:10.031127Z",
     "iopub.status.idle": "2021-12-21T04:53:10.035005Z",
     "shell.execute_reply": "2021-12-21T04:53:10.034457Z",
     "shell.execute_reply.started": "2021-12-21T04:47:13.878903Z"
    },
    "papermill": {
     "duration": 0.030883,
     "end_time": "2021-12-21T04:53:10.035167",
     "exception": false,
     "start_time": "2021-12-21T04:53:10.004284",
     "status": "completed"
    },
    "tags": []
   },
   "outputs": [
    {
     "data": {
      "text/plain": [
       "array(['One_Story_1946_and_Newer_All_Styles', 'Two_Story_1946_and_Newer',\n",
       "       'One_Story_PUD_1946_and_Newer',\n",
       "       'One_and_Half_Story_Finished_All_Ages', 'Split_Foyer',\n",
       "       'Two_Story_PUD_1946_and_Newer', 'Split_or_Multilevel',\n",
       "       'One_Story_1945_and_Older', 'Duplex_All_Styles_and_Ages',\n",
       "       'Two_Family_conversion_All_Styles_and_Ages',\n",
       "       'One_and_Half_Story_Unfinished_All_Ages',\n",
       "       'Two_Story_1945_and_Older', 'Two_and_Half_Story_All_Ages',\n",
       "       'One_Story_with_Finished_Attic_All_Ages',\n",
       "       'PUD_Multilevel_Split_Level_Foyer',\n",
       "       'One_and_Half_Story_PUD_All_Ages'], dtype=object)"
      ]
     },
     "execution_count": 8,
     "metadata": {},
     "output_type": "execute_result"
    }
   ],
   "source": [
    "df.MSSubClass.unique()"
   ]
  },
  {
   "cell_type": "markdown",
   "id": "5e53f70a",
   "metadata": {
    "papermill": {
     "duration": 0.019875,
     "end_time": "2021-12-21T04:53:10.075482",
     "exception": false,
     "start_time": "2021-12-21T04:53:10.055607",
     "status": "completed"
    },
    "tags": []
   },
   "source": [
    "You can see that there is a more general categorization described (roughly) by the first word of each category. Create a feature containing only these first words by splitting `MSSubClass` at the first underscore `_`. (Hint: In the `split` method use an argument `n=1`.)"
   ]
  },
  {
   "cell_type": "code",
   "execution_count": 9,
   "id": "944c9834",
   "metadata": {
    "execution": {
     "iopub.execute_input": "2021-12-21T04:53:10.139626Z",
     "iopub.status.busy": "2021-12-21T04:53:10.138926Z",
     "iopub.status.idle": "2021-12-21T04:53:10.144804Z",
     "shell.execute_reply": "2021-12-21T04:53:10.144226Z",
     "shell.execute_reply.started": "2021-12-21T04:49:14.976940Z"
    },
    "lines_to_next_cell": 0,
    "papermill": {
     "duration": 0.049755,
     "end_time": "2021-12-21T04:53:10.144955",
     "exception": false,
     "start_time": "2021-12-21T04:53:10.095200",
     "status": "completed"
    },
    "tags": []
   },
   "outputs": [
    {
     "data": {
      "application/javascript": [
       "parent.postMessage({\"jupyterEvent\": \"custom.exercise_interaction\", \"data\": {\"outcomeType\": 1, \"valueTowardsCompletion\": 0.2, \"interactionType\": 1, \"questionType\": 2, \"questionId\": \"4_Q4\", \"learnToolsVersion\": \"0.3.4\", \"failureMessage\": \"\", \"exceptionClass\": \"\", \"trace\": \"\"}}, \"*\")"
      ],
      "text/plain": [
       "<IPython.core.display.Javascript object>"
      ]
     },
     "metadata": {},
     "output_type": "display_data"
    },
    {
     "data": {
      "text/markdown": [
       "<span style=\"color:#33cc33\">Correct</span>"
      ],
      "text/plain": [
       "Correct"
      ]
     },
     "metadata": {},
     "output_type": "display_data"
    }
   ],
   "source": [
    "X_4 = pd.DataFrame()\n",
    "\n",
    "# YOUR CODE HERE\n",
    "X_4[\"MSClass\"] = df[\"MSSubClass\"].str.split(\"_\", n=1,expand=True)[0]\n",
    "\n",
    "# Check your answer\n",
    "q_4.check()"
   ]
  },
  {
   "cell_type": "code",
   "execution_count": 10,
   "id": "892d66de",
   "metadata": {
    "execution": {
     "iopub.execute_input": "2021-12-21T04:53:10.190795Z",
     "iopub.status.busy": "2021-12-21T04:53:10.190074Z",
     "iopub.status.idle": "2021-12-21T04:53:10.193201Z",
     "shell.execute_reply": "2021-12-21T04:53:10.192539Z",
     "shell.execute_reply.started": "2021-12-21T04:49:18.452714Z"
    },
    "lines_to_next_cell": 0,
    "papermill": {
     "duration": 0.027853,
     "end_time": "2021-12-21T04:53:10.193345",
     "exception": false,
     "start_time": "2021-12-21T04:53:10.165492",
     "status": "completed"
    },
    "tags": []
   },
   "outputs": [],
   "source": [
    "# Lines below will give you a hint or solution code\n",
    "#q_4.hint()\n",
    "#q_4.solution()"
   ]
  },
  {
   "cell_type": "markdown",
   "id": "e1f67042",
   "metadata": {
    "papermill": {
     "duration": 0.020046,
     "end_time": "2021-12-21T04:53:10.233874",
     "exception": false,
     "start_time": "2021-12-21T04:53:10.213828",
     "status": "completed"
    },
    "tags": []
   },
   "source": [
    "# 5) Use a Grouped Transform\n",
    "\n",
    "The value of a home often depends on how it compares to typical homes in its neighborhood. Create a feature `MedNhbdArea` that describes the *median* of `GrLivArea` grouped on `Neighborhood`."
   ]
  },
  {
   "cell_type": "code",
   "execution_count": 11,
   "id": "a844c944",
   "metadata": {
    "execution": {
     "iopub.execute_input": "2021-12-21T04:53:10.283182Z",
     "iopub.status.busy": "2021-12-21T04:53:10.282398Z",
     "iopub.status.idle": "2021-12-21T04:53:10.298036Z",
     "shell.execute_reply": "2021-12-21T04:53:10.297463Z",
     "shell.execute_reply.started": "2021-12-21T04:50:25.174047Z"
    },
    "lines_to_next_cell": 0,
    "papermill": {
     "duration": 0.042818,
     "end_time": "2021-12-21T04:53:10.298185",
     "exception": false,
     "start_time": "2021-12-21T04:53:10.255367",
     "status": "completed"
    },
    "tags": []
   },
   "outputs": [
    {
     "data": {
      "application/javascript": [
       "parent.postMessage({\"jupyterEvent\": \"custom.exercise_interaction\", \"data\": {\"outcomeType\": 1, \"valueTowardsCompletion\": 0.2, \"interactionType\": 1, \"questionType\": 2, \"questionId\": \"5_Q5\", \"learnToolsVersion\": \"0.3.4\", \"failureMessage\": \"\", \"exceptionClass\": \"\", \"trace\": \"\"}}, \"*\")"
      ],
      "text/plain": [
       "<IPython.core.display.Javascript object>"
      ]
     },
     "metadata": {},
     "output_type": "display_data"
    },
    {
     "data": {
      "text/markdown": [
       "<span style=\"color:#33cc33\">Correct</span>"
      ],
      "text/plain": [
       "Correct"
      ]
     },
     "metadata": {},
     "output_type": "display_data"
    }
   ],
   "source": [
    "X_5 = pd.DataFrame()\n",
    "\n",
    "# YOUR CODE HERE\n",
    "X_5[\"MedNhbdArea\"] = (\n",
    "    df.groupby(\"Neighborhood\")  # for each Neighborhood\n",
    "    [\"GrLivArea\"]                 # select the GrLivArea\n",
    "    .transform(\"median\")         # and compute its median\n",
    ")\n",
    "\n",
    "# Check your answer\n",
    "q_5.check()"
   ]
  },
  {
   "cell_type": "code",
   "execution_count": 12,
   "id": "1992269e",
   "metadata": {
    "execution": {
     "iopub.execute_input": "2021-12-21T04:53:10.347231Z",
     "iopub.status.busy": "2021-12-21T04:53:10.346465Z",
     "iopub.status.idle": "2021-12-21T04:53:10.348367Z",
     "shell.execute_reply": "2021-12-21T04:53:10.349012Z"
    },
    "lines_to_next_cell": 0,
    "papermill": {
     "duration": 0.028359,
     "end_time": "2021-12-21T04:53:10.349192",
     "exception": false,
     "start_time": "2021-12-21T04:53:10.320833",
     "status": "completed"
    },
    "tags": []
   },
   "outputs": [],
   "source": [
    "# Lines below will give you a hint or solution code\n",
    "#q_5.hint()\n",
    "#q_5.solution()"
   ]
  },
  {
   "cell_type": "markdown",
   "id": "e055b3b7",
   "metadata": {
    "papermill": {
     "duration": 0.021406,
     "end_time": "2021-12-21T04:53:10.392508",
     "exception": false,
     "start_time": "2021-12-21T04:53:10.371102",
     "status": "completed"
    },
    "tags": []
   },
   "source": [
    "Now you've made your first new feature set! If you like, you can run the cell below to score the model with all of your new features added:"
   ]
  },
  {
   "cell_type": "code",
   "execution_count": 13,
   "id": "eecd0d07",
   "metadata": {
    "execution": {
     "iopub.execute_input": "2021-12-21T04:53:10.439801Z",
     "iopub.status.busy": "2021-12-21T04:53:10.439063Z",
     "iopub.status.idle": "2021-12-21T04:53:15.118057Z",
     "shell.execute_reply": "2021-12-21T04:53:15.118595Z",
     "shell.execute_reply.started": "2021-12-21T04:50:38.634100Z"
    },
    "papermill": {
     "duration": 4.704618,
     "end_time": "2021-12-21T04:53:15.118838",
     "exception": false,
     "start_time": "2021-12-21T04:53:10.414220",
     "status": "completed"
    },
    "tags": []
   },
   "outputs": [
    {
     "data": {
      "text/plain": [
       "0.13847331710099203"
      ]
     },
     "execution_count": 13,
     "metadata": {},
     "output_type": "execute_result"
    }
   ],
   "source": [
    "X_new = X.join([X_1, X_2, X_3, X_4, X_5])\n",
    "score_dataset(X_new, y)"
   ]
  },
  {
   "cell_type": "markdown",
   "id": "93e52b7f",
   "metadata": {
    "papermill": {
     "duration": 0.021682,
     "end_time": "2021-12-21T04:53:15.164066",
     "exception": false,
     "start_time": "2021-12-21T04:53:15.142384",
     "status": "completed"
    },
    "tags": []
   },
   "source": [
    "# Keep Going #\n",
    "\n",
    "[**Untangle spatial relationships**](https://www.kaggle.com/ryanholbrook/clustering-with-k-means) by adding cluster labels to your dataset."
   ]
  }
 ],
 "metadata": {
  "kernelspec": {
   "display_name": "Python 3",
   "language": "python",
   "name": "python3"
  },
  "language_info": {
   "codemirror_mode": {
    "name": "ipython",
    "version": 3
   },
   "file_extension": ".py",
   "mimetype": "text/x-python",
   "name": "python",
   "nbconvert_exporter": "python",
   "pygments_lexer": "ipython3",
   "version": "3.7.12"
  },
  "papermill": {
   "default_parameters": {},
   "duration": 18.592525,
   "end_time": "2021-12-21T04:53:15.897749",
   "environment_variables": {},
   "exception": null,
   "input_path": "__notebook__.ipynb",
   "output_path": "__notebook__.ipynb",
   "parameters": {},
   "start_time": "2021-12-21T04:52:57.305224",
   "version": "2.3.3"
  }
 },
 "nbformat": 4,
 "nbformat_minor": 5
}
